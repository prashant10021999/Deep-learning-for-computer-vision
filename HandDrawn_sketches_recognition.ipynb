{
  "nbformat": 4,
  "nbformat_minor": 0,
  "metadata": {
    "colab": {
      "provenance": [],
      "authorship_tag": "ABX9TyMe2iSlwbnZmBta53QC8t42",
      "include_colab_link": true
    },
    "kernelspec": {
      "name": "python3",
      "display_name": "Python 3"
    },
    "language_info": {
      "name": "python"
    }
  },
  "cells": [
    {
      "cell_type": "markdown",
      "metadata": {
        "id": "view-in-github",
        "colab_type": "text"
      },
      "source": [
        "<a href=\"https://colab.research.google.com/github/prashant10021999/Deep-learning-for-computer-vision/blob/main/HandDrawn_sketches_recognition.ipynb\" target=\"_parent\"><img src=\"https://colab.research.google.com/assets/colab-badge.svg\" alt=\"Open In Colab\"/></a>"
      ]
    },
    {
      "cell_type": "code",
      "execution_count": null,
      "metadata": {
        "id": "3XdOAh80zUT8"
      },
      "outputs": [],
      "source": [
        "import os\n",
        "import glob\n",
        "import sklearn\n",
        "import numpy as np\n",
        "import pandas as pd\n",
        "import seaborn as sns\n",
        "import urllib.request\n",
        "import tensorflow as tf\n",
        "from PIL import Image as im\n",
        "from matplotlib import pyplot\n",
        "from tensorflow import keras\n",
        "from tensorflow.keras import layers\n",
        "from sklearn.model_selection import KFold\n",
        "from sklearn.metrics import accuracy_score"
      ]
    },
    {
      "cell_type": "code",
      "source": [
        "\"\"\"Importing images of following classes\"\"\"\n",
        "\n",
        "classes = ['cat','bicycle', 'bear','airplane',\n",
        "                'ant','banana','bench','book',\n",
        "                'bottlecap', 'bread']"
      ],
      "metadata": {
        "id": "bfscdR-kzdeQ"
      },
      "execution_count": null,
      "outputs": []
    },
    {
      "cell_type": "code",
      "source": [
        "url = 'https://storage.googleapis.com/quickdraw_dataset/full/numpy_bitmap/'"
      ],
      "metadata": {
        "id": "hMhfzE4LzjIB"
      },
      "execution_count": null,
      "outputs": []
    },
    {
      "cell_type": "code",
      "source": [
        "# Download the data of the aforementioned classes\n",
        "for class_ in classes:\n",
        "\tcomplete_url = url+class_+\".npy\"\n",
        "\tprint(\"Downloading : \",complete_url)\n",
        "\turllib.request.urlretrieve(complete_url, \"./\"+class_+\".npy\")"
      ],
      "metadata": {
        "colab": {
          "base_uri": "https://localhost:8080/"
        },
        "id": "kWygki53zrFd",
        "outputId": "5855165e-2a8e-49db-c6c6-ec85d7817bc9"
      },
      "execution_count": null,
      "outputs": [
        {
          "output_type": "stream",
          "name": "stdout",
          "text": [
            "Downloading :  https://storage.googleapis.com/quickdraw_dataset/full/numpy_bitmap/cat.npy\n",
            "Downloading :  https://storage.googleapis.com/quickdraw_dataset/full/numpy_bitmap/bicycle.npy\n",
            "Downloading :  https://storage.googleapis.com/quickdraw_dataset/full/numpy_bitmap/bear.npy\n",
            "Downloading :  https://storage.googleapis.com/quickdraw_dataset/full/numpy_bitmap/airplane.npy\n",
            "Downloading :  https://storage.googleapis.com/quickdraw_dataset/full/numpy_bitmap/ant.npy\n",
            "Downloading :  https://storage.googleapis.com/quickdraw_dataset/full/numpy_bitmap/banana.npy\n",
            "Downloading :  https://storage.googleapis.com/quickdraw_dataset/full/numpy_bitmap/bench.npy\n",
            "Downloading :  https://storage.googleapis.com/quickdraw_dataset/full/numpy_bitmap/book.npy\n",
            "Downloading :  https://storage.googleapis.com/quickdraw_dataset/full/numpy_bitmap/bottlecap.npy\n",
            "Downloading :  https://storage.googleapis.com/quickdraw_dataset/full/numpy_bitmap/bread.npy\n"
          ]
        }
      ]
    },
    {
      "cell_type": "code",
      "source": [
        "# Grep all the downloaded files and add them to a list\n",
        "data_sets = glob.glob(os.path.join('./*.npy'))"
      ],
      "metadata": {
        "id": "yvBJ8-O0z9bW"
      },
      "execution_count": null,
      "outputs": []
    },
    {
      "cell_type": "code",
      "source": [
        "\"\"\"Creating train and test datasets\"\"\"\n",
        "\n",
        "#initialize variables\n",
        "# Train data\n",
        "input = np.empty([0, 784])\n",
        "# Test data\n",
        "labels = np.empty([0])\n",
        "index = 0\n"
      ],
      "metadata": {
        "id": "rUZrsrIy0D9C"
      },
      "execution_count": null,
      "outputs": []
    },
    {
      "cell_type": "code",
      "source": [
        "# Concatenate the train and test data from all the files\n",
        "for file in data_sets:\n",
        "\tdata = np.load(file)\n",
        "\tdata = data[0: 6000, :]\n",
        "\tinput = np.concatenate((input, data), axis=0)\n",
        "\tlabels = np.append(labels, [index]*data.shape[0])\n",
        "\tindex += 1"
      ],
      "metadata": {
        "id": "J9_-NRnD0K-T"
      },
      "execution_count": null,
      "outputs": []
    },
    {
      "cell_type": "code",
      "source": [
        "# K-Folds cross-validator\n",
        "n_fold = 5\n",
        "kf = KFold(n_splits=n_fold, shuffle=True, random_state=9)\n",
        "x_train, x_test, y_train, y_test = None, None, None, None\n",
        "random_ordering = np.random.permutation(input.shape[0])\n",
        "input = input[random_ordering, :]\n",
        "labels = labels[random_ordering]"
      ],
      "metadata": {
        "id": "jCyDC9et0QmB"
      },
      "execution_count": null,
      "outputs": []
    },
    {
      "cell_type": "code",
      "source": [
        "# Divide the dataset into train and test\n",
        "for train_index, test_index in kf.split(input):\n",
        "    x_train, x_test = input[train_index], input[test_index]\n",
        "    y_train, y_test = labels[train_index], labels[test_index]\n",
        "    break"
      ],
      "metadata": {
        "id": "2dhv-Hiw0S-V"
      },
      "execution_count": null,
      "outputs": []
    },
    {
      "cell_type": "code",
      "source": [
        "len(x_train)"
      ],
      "metadata": {
        "colab": {
          "base_uri": "https://localhost:8080/"
        },
        "id": "pcyjc2Wh0Wr1",
        "outputId": "ad74c4c7-3943-4524-c7dc-48d0c8b83039"
      },
      "execution_count": null,
      "outputs": [
        {
          "output_type": "execute_result",
          "data": {
            "text/plain": [
              "48000"
            ]
          },
          "metadata": {},
          "execution_count": 10
        }
      ]
    },
    {
      "cell_type": "code",
      "source": [
        "len(x_test)"
      ],
      "metadata": {
        "colab": {
          "base_uri": "https://localhost:8080/"
        },
        "id": "uiZM2ESg0bij",
        "outputId": "58a2eb15-4565-4e4f-d2b8-a6852e130f09"
      },
      "execution_count": null,
      "outputs": [
        {
          "output_type": "execute_result",
          "data": {
            "text/plain": [
              "12000"
            ]
          },
          "metadata": {},
          "execution_count": 11
        }
      ]
    },
    {
      "cell_type": "code",
      "source": [
        "x_train[:20]"
      ],
      "metadata": {
        "colab": {
          "base_uri": "https://localhost:8080/"
        },
        "id": "HecutLkw0ehe",
        "outputId": "b1059fa2-cfc0-4d8a-aa92-84c716b54f67"
      },
      "execution_count": null,
      "outputs": [
        {
          "output_type": "execute_result",
          "data": {
            "text/plain": [
              "array([[0., 0., 0., ..., 0., 0., 0.],\n",
              "       [0., 0., 0., ..., 0., 0., 0.],\n",
              "       [0., 0., 0., ..., 0., 0., 0.],\n",
              "       ...,\n",
              "       [0., 0., 0., ..., 0., 0., 0.],\n",
              "       [0., 0., 0., ..., 0., 0., 0.],\n",
              "       [0., 0., 0., ..., 0., 0., 0.]])"
            ]
          },
          "metadata": {},
          "execution_count": 12
        }
      ]
    },
    {
      "cell_type": "code",
      "source": [
        "x_test[:20]"
      ],
      "metadata": {
        "colab": {
          "base_uri": "https://localhost:8080/"
        },
        "id": "9FBvtjOV0ib3",
        "outputId": "87fcb548-4dd1-4c05-e088-9aeaf47b05fc"
      },
      "execution_count": null,
      "outputs": [
        {
          "output_type": "execute_result",
          "data": {
            "text/plain": [
              "array([[0., 0., 0., ..., 0., 0., 0.],\n",
              "       [0., 0., 0., ..., 0., 0., 0.],\n",
              "       [0., 0., 0., ..., 0., 0., 0.],\n",
              "       ...,\n",
              "       [0., 0., 0., ..., 0., 0., 0.],\n",
              "       [0., 0., 0., ..., 0., 0., 0.],\n",
              "       [0., 0., 0., ..., 0., 0., 0.]])"
            ]
          },
          "metadata": {},
          "execution_count": 13
        }
      ]
    },
    {
      "cell_type": "code",
      "source": [
        "y_train[:20]"
      ],
      "metadata": {
        "colab": {
          "base_uri": "https://localhost:8080/"
        },
        "id": "7HeLleWn0lUL",
        "outputId": "bafc368e-287b-4e89-8599-f622b98c5be4"
      },
      "execution_count": null,
      "outputs": [
        {
          "output_type": "execute_result",
          "data": {
            "text/plain": [
              "array([5., 9., 2., 1., 1., 9., 3., 5., 1., 0., 1., 3., 1., 7., 5., 6., 7.,\n",
              "       6., 0., 8.])"
            ]
          },
          "metadata": {},
          "execution_count": 14
        }
      ]
    },
    {
      "cell_type": "code",
      "source": [
        "y_test[:20]"
      ],
      "metadata": {
        "colab": {
          "base_uri": "https://localhost:8080/"
        },
        "id": "aiG8hSd10omz",
        "outputId": "23c47c42-6f71-4e1a-d722-d4c49c8ceb76"
      },
      "execution_count": null,
      "outputs": [
        {
          "output_type": "execute_result",
          "data": {
            "text/plain": [
              "array([0., 0., 4., 8., 1., 2., 8., 5., 6., 7., 6., 5., 0., 8., 6., 0., 9.,\n",
              "       9., 0., 8.])"
            ]
          },
          "metadata": {},
          "execution_count": 15
        }
      ]
    },
    {
      "cell_type": "code",
      "source": [
        "\"\"\"Visualising the input images\"\"\"\n",
        "\n",
        "import matplotlib.pyplot as plt\n",
        "image_size = 28\n",
        "x_train_ = x_train.reshape(x_train.shape[0], image_size, image_size)\n",
        "for i in range(16):\n",
        "  plt.grid(False)\n",
        "  plt.imshow(x_train_[i], cmap=plt.cm.binary)\n",
        "  plt.show()\n"
      ],
      "metadata": {
        "colab": {
          "base_uri": "https://localhost:8080/",
          "height": 1000
        },
        "id": "zkmrv-oJ0sJu",
        "outputId": "83305c9d-99eb-4589-dc21-e81e253328e4"
      },
      "execution_count": null,
      "outputs": [
        {
          "output_type": "display_data",
          "data": {
            "text/plain": [
              "<Figure size 640x480 with 1 Axes>"
            ],
            "image/png": "[encoded data removed]"
          },
          "metadata": {}
        },
        {
          "output_type": "display_data",
          "data": {
            "text/plain": [
              "<Figure size 640x480 with 1 Axes>"
            ],
            "image/png": "[encoded data removed]"
          },
          "metadata": {}
        },
        {
          "output_type": "display_data",
          "data": {
            "text/plain": [
              "<Figure size 640x480 with 1 Axes>"
            ],
            "image/png": "[encoded data removed]"
          },
          "metadata": {}
        },
        {
          "output_type": "display_data",
          "data": {
            "text/plain": [
              "<Figure size 640x480 with 1 Axes>"
            ],
            "image/png": "[encoded data removed]"
          },
          "metadata": {}
        },
        {
          "output_type": "display_data",
          "data": {
            "text/plain": [
              "<Figure size 640x480 with 1 Axes>"
            ],
            "image/png": "[encoded data removed]"
          },
          "metadata": {}
        },
        {
          "output_type": "display_data",
          "data": {
            "text/plain": [
              "<Figure size 640x480 with 1 Axes>"
            ],
            "image/png": "[encoded data removed]"
          },
          "metadata": {}
        },
        {
          "output_type": "display_data",
          "data": {
            "text/plain": [
              "<Figure size 640x480 with 1 Axes>"
            ],
            "image/png": "[encoded data removed]"
          },
          "metadata": {}
        },
        {
          "output_type": "display_data",
          "data": {
            "text/plain": [
              "<Figure size 640x480 with 1 Axes>"
            ],
            "image/png": "[encoded data removed]"
          },
          "metadata": {}
        },
        {
          "output_type": "display_data",
          "data": {
            "text/plain": [
              "<Figure size 640x480 with 1 Axes>"
            ],
            "image/png": "[encoded data removed]"
          },
          "metadata": {}
        },
        {
          "output_type": "display_data",
          "data": {
            "text/plain": [
              "<Figure size 640x480 with 1 Axes>"
            ],
            "image/png": "[encoded data removed]"
          },
          "metadata": {}
        },
        {
          "output_type": "display_data",
          "data": {
            "text/plain": [
              "<Figure size 640x480 with 1 Axes>"
            ],
            "image/png": "[encoded data removed]"
          },
          "metadata": {}
        },
        {
          "output_type": "display_data",
          "data": {
            "text/plain": [
              "<Figure size 640x480 with 1 Axes>"
            ],
            "image/png": "[encoded data removed]"
          },
          "metadata": {}
        },
        {
          "output_type": "display_data",
          "data": {
            "text/plain": [
              "<Figure size 640x480 with 1 Axes>"
            ],
            "image/png": "[encoded data removed]"
          },
          "metadata": {}
        },
        {
          "output_type": "display_data",
          "data": {
            "text/plain": [
              "<Figure size 640x480 with 1 Axes>"
            ],
            "image/png": "[encoded data removed]"
          },
          "metadata": {}
        },
        {
          "output_type": "display_data",
          "data": {
            "text/plain": [
              "<Figure size 640x480 with 1 Axes>"
            ],
            "image/png": "[encoded data removed]"
          },
          "metadata": {}
        },
        {
          "output_type": "display_data",
          "data": {
            "text/plain": [
              "<Figure size 640x480 with 1 Axes>"
            ],
            "image/png": "[encoded data removed]"
          },
          "metadata": {}
        }
      ]
    },
    {
      "cell_type": "code",
      "source": [
        "\"\"\"Normalisation\"\"\"\n",
        "\n",
        "# Divide all the values by 255 to normalize the image\n",
        "x_train /= 255.0\n",
        "x_test /= 255.0\n",
        "\n",
        "# Saving for feature selection and 1d classifiers\n",
        "x_train_fea = x_train\n",
        "x_test_fea = x_test\n",
        "x_train_1d = x_train\n",
        "x_test_1d = x_test"
      ],
      "metadata": {
        "id": "vtNTlehC0wdO"
      },
      "execution_count": null,
      "outputs": []
    },
    {
      "cell_type": "code",
      "source": [
        "\"\"\"Reshaping\"\"\"\n",
        "\n",
        "# Reshape the image size to be 28 x 28\n",
        "image_size = 28\n",
        "x_train = x_train.reshape(x_train.shape[0], image_size, image_size, 1)\n",
        "x_test = x_test.reshape(x_test.shape[0], image_size, image_size, 1)\n",
        "\n",
        "num_classes = len(classes)"
      ],
      "metadata": {
        "id": "wAgIiGmU04lf"
      },
      "execution_count": null,
      "outputs": []
    },
    {
      "cell_type": "code",
      "source": [
        "\"\"\"# Random Forest\"\"\"\n",
        "\n",
        "from sklearn.model_selection import GridSearchCV\n",
        "from sklearn.ensemble._forest import RandomForestClassifier\n",
        "parameters = {'n_estimators': [100,120,140,160]}\n",
        "\n",
        "clf_rf = RandomForestClassifier(n_estimators = 150, n_jobs=-1, random_state=0)\n",
        "# model = GridSearchCV(clf_rf, parameters, n_jobs=-1)\n",
        "clf_rf.fit(x_train_1d, y_train)\n"
      ],
      "metadata": {
        "colab": {
          "base_uri": "https://localhost:8080/",
          "height": 74
        },
        "id": "hXPVJNB407xL",
        "outputId": "8aab8f85-0c2c-49f3-a89e-5249a1c2df3b"
      },
      "execution_count": null,
      "outputs": [
        {
          "output_type": "execute_result",
          "data": {
            "text/plain": [
              "RandomForestClassifier(n_estimators=150, n_jobs=-1, random_state=0)"
            ],
            "text/html": [
              "<style>#sk-container-id-3 {color: black;background-color: white;}#sk-container-id-3 pre{padding: 0;}#sk-container-id-3 div.sk-toggleable {background-color: white;}#sk-container-id-3 label.sk-toggleable__label {cursor: pointer;display: block;width: 100%;margin-bottom: 0;padding: 0.3em;box-sizing: border-box;text-align: center;}#sk-container-id-3 label.sk-toggleable__label-arrow:before {content: \"▸\";float: left;margin-right: 0.25em;color: #696969;}#sk-container-id-3 label.sk-toggleable__label-arrow:hover:before {color: black;}#sk-container-id-3 div.sk-estimator:hover label.sk-toggleable__label-arrow:before {color: black;}#sk-container-id-3 div.sk-toggleable__content {max-height: 0;max-width: 0;overflow: hidden;text-align: left;background-color: #f0f8ff;}#sk-container-id-3 div.sk-toggleable__content pre {margin: 0.2em;color: black;border-radius: 0.25em;background-color: #f0f8ff;}#sk-container-id-3 input.sk-toggleable__control:checked~div.sk-toggleable__content {max-height: 200px;max-width: 100%;overflow: auto;}#sk-container-id-3 input.sk-toggleable__control:checked~label.sk-toggleable__label-arrow:before {content: \"▾\";}#sk-container-id-3 div.sk-estimator input.sk-toggleable__control:checked~label.sk-toggleable__label {background-color: #d4ebff;}#sk-container-id-3 div.sk-label input.sk-toggleable__control:checked~label.sk-toggleable__label {background-color: #d4ebff;}#sk-container-id-3 input.sk-hidden--visually {border: 0;clip: rect(1px 1px 1px 1px);clip: rect(1px, 1px, 1px, 1px);height: 1px;margin: -1px;overflow: hidden;padding: 0;position: absolute;width: 1px;}#sk-container-id-3 div.sk-estimator {font-family: monospace;background-color: #f0f8ff;border: 1px dotted black;border-radius: 0.25em;box-sizing: border-box;margin-bottom: 0.5em;}#sk-container-id-3 div.sk-estimator:hover {background-color: #d4ebff;}#sk-container-id-3 div.sk-parallel-item::after {content: \"\";width: 100%;border-bottom: 1px solid gray;flex-grow: 1;}#sk-container-id-3 div.sk-label:hover label.sk-toggleable__label {background-color: #d4ebff;}#sk-container-id-3 div.sk-serial::before {content: \"\";position: absolute;border-left: 1px solid gray;box-sizing: border-box;top: 0;bottom: 0;left: 50%;z-index: 0;}#sk-container-id-3 div.sk-serial {display: flex;flex-direction: column;align-items: center;background-color: white;padding-right: 0.2em;padding-left: 0.2em;position: relative;}#sk-container-id-3 div.sk-item {position: relative;z-index: 1;}#sk-container-id-3 div.sk-parallel {display: flex;align-items: stretch;justify-content: center;background-color: white;position: relative;}#sk-container-id-3 div.sk-item::before, #sk-container-id-3 div.sk-parallel-item::before {content: \"\";position: absolute;border-left: 1px solid gray;box-sizing: border-box;top: 0;bottom: 0;left: 50%;z-index: -1;}#sk-container-id-3 div.sk-parallel-item {display: flex;flex-direction: column;z-index: 1;position: relative;background-color: white;}#sk-container-id-3 div.sk-parallel-item:first-child::after {align-self: flex-end;width: 50%;}#sk-container-id-3 div.sk-parallel-item:last-child::after {align-self: flex-start;width: 50%;}#sk-container-id-3 div.sk-parallel-item:only-child::after {width: 0;}#sk-container-id-3 div.sk-dashed-wrapped {border: 1px dashed gray;margin: 0 0.4em 0.5em 0.4em;box-sizing: border-box;padding-bottom: 0.4em;background-color: white;}#sk-container-id-3 div.sk-label label {font-family: monospace;font-weight: bold;display: inline-block;line-height: 1.2em;}#sk-container-id-3 div.sk-label-container {text-align: center;}#sk-container-id-3 div.sk-container {/* jupyter's `normalize.less` sets `[hidden] { display: none; }` but bootstrap.min.css set `[hidden] { display: none !important; }` so we also need the `!important` here to be able to override the default hidden behavior on the sphinx rendered scikit-learn.org. See: https://github.com/scikit-learn/scikit-learn/issues/21755 */display: inline-block !important;position: relative;}#sk-container-id-3 div.sk-text-repr-fallback {display: none;}</style><div id=\"sk-container-id-3\" class=\"sk-top-container\"><div class=\"sk-text-repr-fallback\"><pre>RandomForestClassifier(n_estimators=150, n_jobs=-1, random_state=0)</pre><b>In a Jupyter environment, please rerun this cell to show the HTML representation or trust the notebook. <br />On GitHub, the HTML representation is unable to render, please try loading this page with nbviewer.org.</b></div><div class=\"sk-container\" hidden><div class=\"sk-item\"><div class=\"sk-estimator sk-toggleable\"><input class=\"sk-toggleable__control sk-hidden--visually\" id=\"sk-estimator-id-3\" type=\"checkbox\" checked><label for=\"sk-estimator-id-3\" class=\"sk-toggleable__label sk-toggleable__label-arrow\">RandomForestClassifier</label><div class=\"sk-toggleable__content\"><pre>RandomForestClassifier(n_estimators=150, n_jobs=-1, random_state=0)</pre></div></div></div></div></div>"
            ]
          },
          "metadata": {},
          "execution_count": 26
        }
      ]
    },
    {
      "cell_type": "code",
      "source": [
        "\"\"\"Predicting\"\"\"\n",
        "\n",
        "y_pred = clf_rf.predict(x_test_1d)\n",
        "y_pred[:10]\n",
        "\n",
        "\"\"\"Checkng Test Accuracy\"\"\"\n",
        "\n",
        "accuracy = accuracy_score(y_test, y_pred)\n",
        "print(accuracy)\n"
      ],
      "metadata": {
        "colab": {
          "base_uri": "https://localhost:8080/"
        },
        "id": "FrP63ASg1XmV",
        "outputId": "9a9e2b7c-81cf-48cf-c9de-5495a43a16fe"
      },
      "execution_count": null,
      "outputs": [
        {
          "output_type": "stream",
          "name": "stdout",
          "text": [
            "0.7726666666666666\n"
          ]
        }
      ]
    },
    {
      "cell_type": "code",
      "source": [
        "\"\"\"# KNN\"\"\"\n",
        "\n",
        "from sklearn.neighbors import KNeighborsClassifier\n",
        "\n",
        "tuning_parameters = {'n_neighbors': [1,3,5,7,9,11]}\n",
        "\n",
        "knn = KNeighborsClassifier(n_neighbors = 5, n_jobs=-1)\n",
        "# knn = GridSearchCV(clf_knn, tuning_parameters, n_jobs=-1)\n",
        "knn.fit(x_train_1d, y_train)\n"
      ],
      "metadata": {
        "colab": {
          "base_uri": "https://localhost:8080/",
          "height": 74
        },
        "id": "2fSUvxZF1apY",
        "outputId": "dc3e78ce-3134-4b37-a5ed-bd55d4701faa"
      },
      "execution_count": null,
      "outputs": [
        {
          "output_type": "execute_result",
          "data": {
            "text/plain": [
              "KNeighborsClassifier(n_jobs=-1)"
            ],
            "text/html": [
              "<style>#sk-container-id-1 {color: black;background-color: white;}#sk-container-id-1 pre{padding: 0;}#sk-container-id-1 div.sk-toggleable {background-color: white;}#sk-container-id-1 label.sk-toggleable__label {cursor: pointer;display: block;width: 100%;margin-bottom: 0;padding: 0.3em;box-sizing: border-box;text-align: center;}#sk-container-id-1 label.sk-toggleable__label-arrow:before {content: \"▸\";float: left;margin-right: 0.25em;color: #696969;}#sk-container-id-1 label.sk-toggleable__label-arrow:hover:before {color: black;}#sk-container-id-1 div.sk-estimator:hover label.sk-toggleable__label-arrow:before {color: black;}#sk-container-id-1 div.sk-toggleable__content {max-height: 0;max-width: 0;overflow: hidden;text-align: left;background-color: #f0f8ff;}#sk-container-id-1 div.sk-toggleable__content pre {margin: 0.2em;color: black;border-radius: 0.25em;background-color: #f0f8ff;}#sk-container-id-1 input.sk-toggleable__control:checked~div.sk-toggleable__content {max-height: 200px;max-width: 100%;overflow: auto;}#sk-container-id-1 input.sk-toggleable__control:checked~label.sk-toggleable__label-arrow:before {content: \"▾\";}#sk-container-id-1 div.sk-estimator input.sk-toggleable__control:checked~label.sk-toggleable__label {background-color: #d4ebff;}#sk-container-id-1 div.sk-label input.sk-toggleable__control:checked~label.sk-toggleable__label {background-color: #d4ebff;}#sk-container-id-1 input.sk-hidden--visually {border: 0;clip: rect(1px 1px 1px 1px);clip: rect(1px, 1px, 1px, 1px);height: 1px;margin: -1px;overflow: hidden;padding: 0;position: absolute;width: 1px;}#sk-container-id-1 div.sk-estimator {font-family: monospace;background-color: #f0f8ff;border: 1px dotted black;border-radius: 0.25em;box-sizing: border-box;margin-bottom: 0.5em;}#sk-container-id-1 div.sk-estimator:hover {background-color: #d4ebff;}#sk-container-id-1 div.sk-parallel-item::after {content: \"\";width: 100%;border-bottom: 1px solid gray;flex-grow: 1;}#sk-container-id-1 div.sk-label:hover label.sk-toggleable__label {background-color: #d4ebff;}#sk-container-id-1 div.sk-serial::before {content: \"\";position: absolute;border-left: 1px solid gray;box-sizing: border-box;top: 0;bottom: 0;left: 50%;z-index: 0;}#sk-container-id-1 div.sk-serial {display: flex;flex-direction: column;align-items: center;background-color: white;padding-right: 0.2em;padding-left: 0.2em;position: relative;}#sk-container-id-1 div.sk-item {position: relative;z-index: 1;}#sk-container-id-1 div.sk-parallel {display: flex;align-items: stretch;justify-content: center;background-color: white;position: relative;}#sk-container-id-1 div.sk-item::before, #sk-container-id-1 div.sk-parallel-item::before {content: \"\";position: absolute;border-left: 1px solid gray;box-sizing: border-box;top: 0;bottom: 0;left: 50%;z-index: -1;}#sk-container-id-1 div.sk-parallel-item {display: flex;flex-direction: column;z-index: 1;position: relative;background-color: white;}#sk-container-id-1 div.sk-parallel-item:first-child::after {align-self: flex-end;width: 50%;}#sk-container-id-1 div.sk-parallel-item:last-child::after {align-self: flex-start;width: 50%;}#sk-container-id-1 div.sk-parallel-item:only-child::after {width: 0;}#sk-container-id-1 div.sk-dashed-wrapped {border: 1px dashed gray;margin: 0 0.4em 0.5em 0.4em;box-sizing: border-box;padding-bottom: 0.4em;background-color: white;}#sk-container-id-1 div.sk-label label {font-family: monospace;font-weight: bold;display: inline-block;line-height: 1.2em;}#sk-container-id-1 div.sk-label-container {text-align: center;}#sk-container-id-1 div.sk-container {/* jupyter's `normalize.less` sets `[hidden] { display: none; }` but bootstrap.min.css set `[hidden] { display: none !important; }` so we also need the `!important` here to be able to override the default hidden behavior on the sphinx rendered scikit-learn.org. See: https://github.com/scikit-learn/scikit-learn/issues/21755 */display: inline-block !important;position: relative;}#sk-container-id-1 div.sk-text-repr-fallback {display: none;}</style><div id=\"sk-container-id-1\" class=\"sk-top-container\"><div class=\"sk-text-repr-fallback\"><pre>KNeighborsClassifier(n_jobs=-1)</pre><b>In a Jupyter environment, please rerun this cell to show the HTML representation or trust the notebook. <br />On GitHub, the HTML representation is unable to render, please try loading this page with nbviewer.org.</b></div><div class=\"sk-container\" hidden><div class=\"sk-item\"><div class=\"sk-estimator sk-toggleable\"><input class=\"sk-toggleable__control sk-hidden--visually\" id=\"sk-estimator-id-1\" type=\"checkbox\" checked><label for=\"sk-estimator-id-1\" class=\"sk-toggleable__label sk-toggleable__label-arrow\">KNeighborsClassifier</label><div class=\"sk-toggleable__content\"><pre>KNeighborsClassifier(n_jobs=-1)</pre></div></div></div></div></div>"
            ]
          },
          "metadata": {},
          "execution_count": 22
        }
      ]
    },
    {
      "cell_type": "code",
      "source": [
        "\"\"\"Predicting\"\"\"\n",
        "\n",
        "y_pred = knn.predict(x_test_1d)\n",
        "y_pred[:10]\n"
      ],
      "metadata": {
        "colab": {
          "base_uri": "https://localhost:8080/"
        },
        "id": "jjmQrqEh1i2r",
        "outputId": "3b8464c7-1c1f-4022-f65a-633b1c64a8fe"
      },
      "execution_count": null,
      "outputs": [
        {
          "output_type": "execute_result",
          "data": {
            "text/plain": [
              "array([0., 0., 4., 8., 1., 2., 8., 6., 6., 9.])"
            ]
          },
          "metadata": {},
          "execution_count": 23
        }
      ]
    },
    {
      "cell_type": "code",
      "source": [
        "\"\"\"Testing Accuracy\"\"\"\n",
        "\n",
        "accuracy = accuracy_score(y_test, y_pred)\n",
        "print(accuracy)"
      ],
      "metadata": {
        "colab": {
          "base_uri": "https://localhost:8080/"
        },
        "id": "GPb1WYbm1wlx",
        "outputId": "02f91f52-f76f-4800-e714-8e6c4d14eb56"
      },
      "execution_count": null,
      "outputs": [
        {
          "output_type": "stream",
          "name": "stdout",
          "text": [
            "0.7340833333333333\n"
          ]
        }
      ]
    },
    {
      "cell_type": "code",
      "source": [
        "\"\"\"# MLP\"\"\"\n",
        "\n",
        "from sklearn.neural_network import MLPClassifier\n",
        "\n",
        "tuning_parameaters = {'hidden_layer_sizes' : [(50,), (100,), (784,), (50,50), (100,100), (784,784), (50,50,50), (100,100,100)],\n",
        "                    'alpha' : list(10.0 ** -np.arange(1, 7))}\n",
        "\n",
        "mlp = MLPClassifier(hidden_layer_sizes=(100,100,100), random_state=0)\n",
        "# mlp = GridSearchCV(clf_mlp, param_grid=tuning_parameaters, n_jobs=-1)\n",
        "mlp.fit(x_train_1d, y_train)\n"
      ],
      "metadata": {
        "colab": {
          "base_uri": "https://localhost:8080/",
          "height": 74
        },
        "id": "A1pTifBp108X",
        "outputId": "f1806de3-68bb-43f5-d2f0-9f9c7a47dd11"
      },
      "execution_count": null,
      "outputs": [
        {
          "output_type": "execute_result",
          "data": {
            "text/plain": [
              "MLPClassifier(hidden_layer_sizes=(100, 100, 100), random_state=0)"
            ],
            "text/html": [
              "<style>#sk-container-id-2 {color: black;background-color: white;}#sk-container-id-2 pre{padding: 0;}#sk-container-id-2 div.sk-toggleable {background-color: white;}#sk-container-id-2 label.sk-toggleable__label {cursor: pointer;display: block;width: 100%;margin-bottom: 0;padding: 0.3em;box-sizing: border-box;text-align: center;}#sk-container-id-2 label.sk-toggleable__label-arrow:before {content: \"▸\";float: left;margin-right: 0.25em;color: #696969;}#sk-container-id-2 label.sk-toggleable__label-arrow:hover:before {color: black;}#sk-container-id-2 div.sk-estimator:hover label.sk-toggleable__label-arrow:before {color: black;}#sk-container-id-2 div.sk-toggleable__content {max-height: 0;max-width: 0;overflow: hidden;text-align: left;background-color: #f0f8ff;}#sk-container-id-2 div.sk-toggleable__content pre {margin: 0.2em;color: black;border-radius: 0.25em;background-color: #f0f8ff;}#sk-container-id-2 input.sk-toggleable__control:checked~div.sk-toggleable__content {max-height: 200px;max-width: 100%;overflow: auto;}#sk-container-id-2 input.sk-toggleable__control:checked~label.sk-toggleable__label-arrow:before {content: \"▾\";}#sk-container-id-2 div.sk-estimator input.sk-toggleable__control:checked~label.sk-toggleable__label {background-color: #d4ebff;}#sk-container-id-2 div.sk-label input.sk-toggleable__control:checked~label.sk-toggleable__label {background-color: #d4ebff;}#sk-container-id-2 input.sk-hidden--visually {border: 0;clip: rect(1px 1px 1px 1px);clip: rect(1px, 1px, 1px, 1px);height: 1px;margin: -1px;overflow: hidden;padding: 0;position: absolute;width: 1px;}#sk-container-id-2 div.sk-estimator {font-family: monospace;background-color: #f0f8ff;border: 1px dotted black;border-radius: 0.25em;box-sizing: border-box;margin-bottom: 0.5em;}#sk-container-id-2 div.sk-estimator:hover {background-color: #d4ebff;}#sk-container-id-2 div.sk-parallel-item::after {content: \"\";width: 100%;border-bottom: 1px solid gray;flex-grow: 1;}#sk-container-id-2 div.sk-label:hover label.sk-toggleable__label {background-color: #d4ebff;}#sk-container-id-2 div.sk-serial::before {content: \"\";position: absolute;border-left: 1px solid gray;box-sizing: border-box;top: 0;bottom: 0;left: 50%;z-index: 0;}#sk-container-id-2 div.sk-serial {display: flex;flex-direction: column;align-items: center;background-color: white;padding-right: 0.2em;padding-left: 0.2em;position: relative;}#sk-container-id-2 div.sk-item {position: relative;z-index: 1;}#sk-container-id-2 div.sk-parallel {display: flex;align-items: stretch;justify-content: center;background-color: white;position: relative;}#sk-container-id-2 div.sk-item::before, #sk-container-id-2 div.sk-parallel-item::before {content: \"\";position: absolute;border-left: 1px solid gray;box-sizing: border-box;top: 0;bottom: 0;left: 50%;z-index: -1;}#sk-container-id-2 div.sk-parallel-item {display: flex;flex-direction: column;z-index: 1;position: relative;background-color: white;}#sk-container-id-2 div.sk-parallel-item:first-child::after {align-self: flex-end;width: 50%;}#sk-container-id-2 div.sk-parallel-item:last-child::after {align-self: flex-start;width: 50%;}#sk-container-id-2 div.sk-parallel-item:only-child::after {width: 0;}#sk-container-id-2 div.sk-dashed-wrapped {border: 1px dashed gray;margin: 0 0.4em 0.5em 0.4em;box-sizing: border-box;padding-bottom: 0.4em;background-color: white;}#sk-container-id-2 div.sk-label label {font-family: monospace;font-weight: bold;display: inline-block;line-height: 1.2em;}#sk-container-id-2 div.sk-label-container {text-align: center;}#sk-container-id-2 div.sk-container {/* jupyter's `normalize.less` sets `[hidden] { display: none; }` but bootstrap.min.css set `[hidden] { display: none !important; }` so we also need the `!important` here to be able to override the default hidden behavior on the sphinx rendered scikit-learn.org. See: https://github.com/scikit-learn/scikit-learn/issues/21755 */display: inline-block !important;position: relative;}#sk-container-id-2 div.sk-text-repr-fallback {display: none;}</style><div id=\"sk-container-id-2\" class=\"sk-top-container\"><div class=\"sk-text-repr-fallback\"><pre>MLPClassifier(hidden_layer_sizes=(100, 100, 100), random_state=0)</pre><b>In a Jupyter environment, please rerun this cell to show the HTML representation or trust the notebook. <br />On GitHub, the HTML representation is unable to render, please try loading this page with nbviewer.org.</b></div><div class=\"sk-container\" hidden><div class=\"sk-item\"><div class=\"sk-estimator sk-toggleable\"><input class=\"sk-toggleable__control sk-hidden--visually\" id=\"sk-estimator-id-2\" type=\"checkbox\" checked><label for=\"sk-estimator-id-2\" class=\"sk-toggleable__label sk-toggleable__label-arrow\">MLPClassifier</label><div class=\"sk-toggleable__content\"><pre>MLPClassifier(hidden_layer_sizes=(100, 100, 100), random_state=0)</pre></div></div></div></div></div>"
            ]
          },
          "metadata": {},
          "execution_count": 25
        }
      ]
    },
    {
      "cell_type": "code",
      "source": [
        "\"\"\"Predicting\"\"\"\n",
        "\n",
        "y_pred = mlp.predict(x_test_1d)\n",
        "y_pred[:10]"
      ],
      "metadata": {
        "colab": {
          "base_uri": "https://localhost:8080/"
        },
        "id": "tZixbnRy3Z5B",
        "outputId": "cd503f99-6ae5-46c4-8ce0-1d2ae29d84d4"
      },
      "execution_count": null,
      "outputs": [
        {
          "output_type": "execute_result",
          "data": {
            "text/plain": [
              "array([0., 6., 4., 8., 1., 2., 8., 6., 6., 9.])"
            ]
          },
          "metadata": {},
          "execution_count": 28
        }
      ]
    },
    {
      "cell_type": "code",
      "source": [
        "\"\"\"Testing Accuracy\"\"\"\n",
        "\n",
        "accuracy = accuracy_score(y_test, y_pred)\n",
        "print(accuracy)"
      ],
      "metadata": {
        "colab": {
          "base_uri": "https://localhost:8080/"
        },
        "id": "o6D2ax4B3iJD",
        "outputId": "c005a173-dfb2-4119-eab2-67bc04d02fa1"
      },
      "execution_count": null,
      "outputs": [
        {
          "output_type": "stream",
          "name": "stdout",
          "text": [
            "0.7639166666666667\n"
          ]
        }
      ]
    },
    {
      "cell_type": "code",
      "source": [
        "\"\"\"# CNN\"\"\"\n",
        "\n",
        "# CNN Model\n",
        "model = keras.Sequential()\n",
        "model.add(layers.Convolution2D(64, (3, 3),\n",
        "                        padding='same',\n",
        "                        input_shape=x_train.shape[1:], activation='relu'))\n",
        "model.add(layers.MaxPooling2D(pool_size=(3, 3)))\n",
        "model.add(layers.Convolution2D(128, (3, 3), padding='same', activation='relu'))\n",
        "model.add(layers.MaxPooling2D(pool_size=(3, 3)))\n",
        "model.add(layers.Convolution2D(64, (3, 3), padding='same', activation='relu'))\n",
        "model.add(layers.MaxPooling2D(pool_size =(3,3)))\n",
        "model.add(layers.Flatten())\n",
        "model.add(layers.Dense(128, activation='relu'))\n",
        "model.add(layers.Dense(num_classes, activation='softmax'))\n",
        "optimizer = tf.optimizers.Adam()\n",
        "model.compile(loss='sparse_categorical_crossentropy',\n",
        "              optimizer=optimizer,\n",
        "              metrics=['accuracy'])\n"
      ],
      "metadata": {
        "id": "svitT8qH3k4G"
      },
      "execution_count": null,
      "outputs": []
    },
    {
      "cell_type": "code",
      "source": [
        "\"\"\"Fitting model\"\"\"\n",
        "\n",
        "# Fit a model to the train data\n",
        "model.fit(x = x_train, y = y_train, batch_size = 100,  validation_split = 0.2, epochs=5)\n",
        "\n",
        "\"\"\"Predicting\"\"\"\n",
        "\n",
        "y_predict = model.predict(x_test)\n",
        "y_predict[:2]\n"
      ],
      "metadata": {
        "colab": {
          "base_uri": "https://localhost:8080/"
        },
        "id": "lR1TnAVz3k3D",
        "outputId": "50ab23b6-970b-4666-8c3d-85d6d38a35cf"
      },
      "execution_count": null,
      "outputs": [
        {
          "output_type": "stream",
          "name": "stdout",
          "text": [
            "Epoch 1/5\n",
            "384/384 [==============================] - 66s 166ms/step - loss: 0.9544 - accuracy: 0.6879 - val_loss: 0.5856 - val_accuracy: 0.8140\n",
            "Epoch 2/5\n",
            "384/384 [==============================] - 64s 166ms/step - loss: 0.5269 - accuracy: 0.8371 - val_loss: 0.4454 - val_accuracy: 0.8636\n",
            "Epoch 3/5\n",
            "384/384 [==============================] - 64s 168ms/step - loss: 0.4278 - accuracy: 0.8682 - val_loss: 0.4019 - val_accuracy: 0.8747\n",
            "Epoch 4/5\n",
            "384/384 [==============================] - 64s 166ms/step - loss: 0.3768 - accuracy: 0.8833 - val_loss: 0.3695 - val_accuracy: 0.8850\n",
            "Epoch 5/5\n",
            "384/384 [==============================] - 61s 160ms/step - loss: 0.3237 - accuracy: 0.9000 - val_loss: 0.3587 - val_accuracy: 0.8851\n",
            "375/375 [==============================] - 6s 16ms/step\n"
          ]
        },
        {
          "output_type": "execute_result",
          "data": {
            "text/plain": [
              "array([[9.51458871e-01, 1.56529510e-04, 7.88501202e-05, 6.44817576e-03,\n",
              "        2.83133159e-05, 8.15284345e-03, 3.26532461e-02, 1.44738093e-04,\n",
              "        2.78677529e-04, 5.99771738e-04],\n",
              "       [8.18778694e-01, 3.38299360e-05, 1.23129983e-03, 6.57991186e-05,\n",
              "        1.17568285e-04, 1.39497872e-03, 1.77718431e-01, 1.49032829e-04,\n",
              "        1.20955250e-04, 3.89285706e-04]], dtype=float32)"
            ]
          },
          "metadata": {},
          "execution_count": 31
        }
      ]
    },
    {
      "cell_type": "code",
      "source": [
        "\"\"\"Testing Accuracy\"\"\"\n",
        "\n",
        "# Obtain the accuracy of the above model on the test data\n",
        "accuracy = model.evaluate(x_test, y_test)\n"
      ],
      "metadata": {
        "colab": {
          "base_uri": "https://localhost:8080/"
        },
        "id": "Hq4ve4oT3kwf",
        "outputId": "537c8c21-4105-493e-b7bf-40514d54190a"
      },
      "execution_count": null,
      "outputs": [
        {
          "output_type": "stream",
          "name": "stdout",
          "text": [
            "375/375 [==============================] - 10s 27ms/step - loss: 0.3811 - accuracy: 0.8853\n"
          ]
        }
      ]
    },
    {
      "cell_type": "code",
      "source": [
        "\"\"\"# Feature Selection\"\"\"\n",
        "\n",
        "# Taking old data inputs\n",
        "x_train = x_train_fea\n",
        "x_test = x_test_fea\n",
        "\n",
        "x_train_1d = x_train_fea\n",
        "x_test_1d = x_test_fea"
      ],
      "metadata": {
        "id": "vq2c0Rhv5Pf7"
      },
      "execution_count": null,
      "outputs": []
    },
    {
      "cell_type": "code",
      "source": [
        "from sklearn.feature_selection import chi2, SelectKBest\n",
        "n_features = 400\n",
        "bestfeatures = SelectKBest(score_func=chi2, k=100)\n",
        "fit = bestfeatures.fit(x_train_1d, y_train)\n",
        "dfscores = pd.DataFrame(fit.scores_)\n",
        "dfcolumns = pd.DataFrame(range(len(x_train_1d)))\n",
        "#concat two dataframes for better visualization\n",
        "\n",
        "featureScores = pd.concat([dfcolumns, dfscores],axis=1)\n",
        "featureScores.columns = ['Specs','Score']  #naming the dataframe columns\n",
        "print(featureScores.nlargest(n_features,'Score'))  #print 1 best features\n"
      ],
      "metadata": {
        "colab": {
          "base_uri": "https://localhost:8080/"
        },
        "id": "y0mOIVC75ed2",
        "outputId": "ff4dc93b-af9a-476f-c47e-e33f9b93ee8f"
      },
      "execution_count": null,
      "outputs": [
        {
          "output_type": "stream",
          "name": "stdout",
          "text": [
            "     Specs        Score\n",
            "529    529  5415.799172\n",
            "501    501  5023.740567\n",
            "506    506  4874.034338\n",
            "557    557  4723.490764\n",
            "534    534  4387.790709\n",
            "..     ...          ...\n",
            "234    234  1445.973321\n",
            "467    467  1441.493130\n",
            "451    451  1438.467030\n",
            "242    242  1436.813068\n",
            "211    211  1436.228381\n",
            "\n",
            "[400 rows x 2 columns]\n"
          ]
        }
      ]
    },
    {
      "cell_type": "code",
      "source": [
        "fit.scores_[100:120]"
      ],
      "metadata": {
        "colab": {
          "base_uri": "https://localhost:8080/"
        },
        "id": "pbdHbC5G5l_x",
        "outputId": "697662f5-11c7-43e0-d177-ecc4cb4884ad"
      },
      "execution_count": null,
      "outputs": [
        {
          "output_type": "execute_result",
          "data": {
            "text/plain": [
              "array([2805.97291845, 2768.84483518, 2676.63875135, 2579.82677828,\n",
              "       2590.82636719, 2706.28315379, 2492.16179049, 2128.23398009,\n",
              "       1537.79828535,  823.86195215,  154.95802775,           nan,\n",
              "                 nan,  206.69007357, 1151.02682676, 1983.8278704 ,\n",
              "       2627.7761421 , 2859.57428992, 2806.14402797, 2618.89758628])"
            ]
          },
          "metadata": {},
          "execution_count": 35
        }
      ]
    },
    {
      "cell_type": "code",
      "source": [
        "featureScores.nlargest(n_features,'Score')"
      ],
      "metadata": {
        "colab": {
          "base_uri": "https://localhost:8080/",
          "height": 423
        },
        "id": "_-DczdxT5qB2",
        "outputId": "0af2f450-2b50-4142-de2d-a1df568b4fe6"
      },
      "execution_count": null,
      "outputs": [
        {
          "output_type": "execute_result",
          "data": {
            "text/plain": [
              "     Specs        Score\n",
              "529    529  5415.799172\n",
              "501    501  5023.740567\n",
              "506    506  4874.034338\n",
              "557    557  4723.490764\n",
              "534    534  4387.790709\n",
              "..     ...          ...\n",
              "234    234  1445.973321\n",
              "467    467  1441.493130\n",
              "451    451  1438.467030\n",
              "242    242  1436.813068\n",
              "211    211  1436.228381\n",
              "\n",
              "[400 rows x 2 columns]"
            ],
            "text/html": [
              "\n",
              "  <div id=\"df-974d4adc-d07e-4f16-9fae-5e738009c415\" class=\"colab-df-container\">\n",
              "    <div>\n",
              "<style scoped>\n",
              "    .dataframe tbody tr th:only-of-type {\n",
              "        vertical-align: middle;\n",
              "    }\n",
              "\n",
              "    .dataframe tbody tr th {\n",
              "        vertical-align: top;\n",
              "    }\n",
              "\n",
              "    .dataframe thead th {\n",
              "        text-align: right;\n",
              "    }\n",
              "</style>\n",
              "<table border=\"1\" class=\"dataframe\">\n",
              "  <thead>\n",
              "    <tr style=\"text-align: right;\">\n",
              "      <th></th>\n",
              "      <th>Specs</th>\n",
              "      <th>Score</th>\n",
              "    </tr>\n",
              "  </thead>\n",
              "  <tbody>\n",
              "    <tr>\n",
              "      <th>529</th>\n",
              "      <td>529</td>\n",
              "      <td>5415.799172</td>\n",
              "    </tr>\n",
              "    <tr>\n",
              "      <th>501</th>\n",
              "      <td>501</td>\n",
              "      <td>5023.740567</td>\n",
              "    </tr>\n",
              "    <tr>\n",
              "      <th>506</th>\n",
              "      <td>506</td>\n",
              "      <td>4874.034338</td>\n",
              "    </tr>\n",
              "    <tr>\n",
              "      <th>557</th>\n",
              "      <td>557</td>\n",
              "      <td>4723.490764</td>\n",
              "    </tr>\n",
              "    <tr>\n",
              "      <th>534</th>\n",
              "      <td>534</td>\n",
              "      <td>4387.790709</td>\n",
              "    </tr>\n",
              "    <tr>\n",
              "      <th>...</th>\n",
              "      <td>...</td>\n",
              "      <td>...</td>\n",
              "    </tr>\n",
              "    <tr>\n",
              "      <th>234</th>\n",
              "      <td>234</td>\n",
              "      <td>1445.973321</td>\n",
              "    </tr>\n",
              "    <tr>\n",
              "      <th>467</th>\n",
              "      <td>467</td>\n",
              "      <td>1441.493130</td>\n",
              "    </tr>\n",
              "    <tr>\n",
              "      <th>451</th>\n",
              "      <td>451</td>\n",
              "      <td>1438.467030</td>\n",
              "    </tr>\n",
              "    <tr>\n",
              "      <th>242</th>\n",
              "      <td>242</td>\n",
              "      <td>1436.813068</td>\n",
              "    </tr>\n",
              "    <tr>\n",
              "      <th>211</th>\n",
              "      <td>211</td>\n",
              "      <td>1436.228381</td>\n",
              "    </tr>\n",
              "  </tbody>\n",
              "</table>\n",
              "<p>400 rows × 2 columns</p>\n",
              "</div>\n",
              "    <div class=\"colab-df-buttons\">\n",
              "\n",
              "  <div class=\"colab-df-container\">\n",
              "    <button class=\"colab-df-convert\" onclick=\"convertToInteractive('df-974d4adc-d07e-4f16-9fae-5e738009c415')\"\n",
              "            title=\"Convert this dataframe to an interactive table.\"\n",
              "            style=\"display:none;\">\n",
              "\n",
              "  <svg xmlns=\"http://www.w3.org/2000/svg\" height=\"24px\" viewBox=\"0 -960 960 960\">\n",
              "    <path d=\"M120-120v-720h720v720H120Zm60-500h600v-160H180v160Zm220 220h160v-160H400v160Zm0 220h160v-160H400v160ZM180-400h160v-160H180v160Zm440 0h160v-160H620v160ZM180-180h160v-160H180v160Zm440 0h160v-160H620v160Z\"/>\n",
              "  </svg>\n",
              "    </button>\n",
              "\n",
              "  <style>\n",
              "    .colab-df-container {\n",
              "      display:flex;\n",
              "      gap: 12px;\n",
              "    }\n",
              "\n",
              "    .colab-df-convert {\n",
              "      background-color: #E8F0FE;\n",
              "      border: none;\n",
              "      border-radius: 50%;\n",
              "      cursor: pointer;\n",
              "      display: none;\n",
              "      fill: #1967D2;\n",
              "      height: 32px;\n",
              "      padding: 0 0 0 0;\n",
              "      width: 32px;\n",
              "    }\n",
              "\n",
              "    .colab-df-convert:hover {\n",
              "      background-color: #E2EBFA;\n",
              "      box-shadow: 0px 1px 2px rgba(60, 64, 67, 0.3), 0px 1px 3px 1px rgba(60, 64, 67, 0.15);\n",
              "      fill: #174EA6;\n",
              "    }\n",
              "\n",
              "    .colab-df-buttons div {\n",
              "      margin-bottom: 4px;\n",
              "    }\n",
              "\n",
              "    [theme=dark] .colab-df-convert {\n",
              "      background-color: #3B4455;\n",
              "      fill: #D2E3FC;\n",
              "    }\n",
              "\n",
              "    [theme=dark] .colab-df-convert:hover {\n",
              "      background-color: #434B5C;\n",
              "      box-shadow: 0px 1px 3px 1px rgba(0, 0, 0, 0.15);\n",
              "      filter: drop-shadow(0px 1px 2px rgba(0, 0, 0, 0.3));\n",
              "      fill: #FFFFFF;\n",
              "    }\n",
              "  </style>\n",
              "\n",
              "    <script>\n",
              "      const buttonEl =\n",
              "        document.querySelector('#df-974d4adc-d07e-4f16-9fae-5e738009c415 button.colab-df-convert');\n",
              "      buttonEl.style.display =\n",
              "        google.colab.kernel.accessAllowed ? 'block' : 'none';\n",
              "\n",
              "      async function convertToInteractive(key) {\n",
              "        const element = document.querySelector('#df-974d4adc-d07e-4f16-9fae-5e738009c415');\n",
              "        const dataTable =\n",
              "          await google.colab.kernel.invokeFunction('convertToInteractive',\n",
              "                                                    [key], {});\n",
              "        if (!dataTable) return;\n",
              "\n",
              "        const docLinkHtml = 'Like what you see? Visit the ' +\n",
              "          '<a target=\"_blank\" href=https://colab.research.google.com/notebooks/data_table.ipynb>data table notebook</a>'\n",
              "          + ' to learn more about interactive tables.';\n",
              "        element.innerHTML = '';\n",
              "        dataTable['output_type'] = 'display_data';\n",
              "        await google.colab.output.renderOutput(dataTable, element);\n",
              "        const docLink = document.createElement('div');\n",
              "        docLink.innerHTML = docLinkHtml;\n",
              "        element.appendChild(docLink);\n",
              "      }\n",
              "    </script>\n",
              "  </div>\n",
              "\n",
              "\n",
              "<div id=\"df-c8f37942-9582-449f-91b9-8f18f8a8bc88\">\n",
              "  <button class=\"colab-df-quickchart\" onclick=\"quickchart('df-c8f37942-9582-449f-91b9-8f18f8a8bc88')\"\n",
              "            title=\"Suggest charts\"\n",
              "            style=\"display:none;\">\n",
              "\n",
              "<svg xmlns=\"http://www.w3.org/2000/svg\" height=\"24px\"viewBox=\"0 0 24 24\"\n",
              "     width=\"24px\">\n",
              "    <g>\n",
              "        <path d=\"M19 3H5c-1.1 0-2 .9-2 2v14c0 1.1.9 2 2 2h14c1.1 0 2-.9 2-2V5c0-1.1-.9-2-2-2zM9 17H7v-7h2v7zm4 0h-2V7h2v10zm4 0h-2v-4h2v4z\"/>\n",
              "    </g>\n",
              "</svg>\n",
              "  </button>\n",
              "\n",
              "<style>\n",
              "  .colab-df-quickchart {\n",
              "      --bg-color: #E8F0FE;\n",
              "      --fill-color: #1967D2;\n",
              "      --hover-bg-color: #E2EBFA;\n",
              "      --hover-fill-color: #174EA6;\n",
              "      --disabled-fill-color: #AAA;\n",
              "      --disabled-bg-color: #DDD;\n",
              "  }\n",
              "\n",
              "  [theme=dark] .colab-df-quickchart {\n",
              "      --bg-color: #3B4455;\n",
              "      --fill-color: #D2E3FC;\n",
              "      --hover-bg-color: #434B5C;\n",
              "      --hover-fill-color: #FFFFFF;\n",
              "      --disabled-bg-color: #3B4455;\n",
              "      --disabled-fill-color: #666;\n",
              "  }\n",
              "\n",
              "  .colab-df-quickchart {\n",
              "    background-color: var(--bg-color);\n",
              "    border: none;\n",
              "    border-radius: 50%;\n",
              "    cursor: pointer;\n",
              "    display: none;\n",
              "    fill: var(--fill-color);\n",
              "    height: 32px;\n",
              "    padding: 0;\n",
              "    width: 32px;\n",
              "  }\n",
              "\n",
              "  .colab-df-quickchart:hover {\n",
              "    background-color: var(--hover-bg-color);\n",
              "    box-shadow: 0 1px 2px rgba(60, 64, 67, 0.3), 0 1px 3px 1px rgba(60, 64, 67, 0.15);\n",
              "    fill: var(--button-hover-fill-color);\n",
              "  }\n",
              "\n",
              "  .colab-df-quickchart-complete:disabled,\n",
              "  .colab-df-quickchart-complete:disabled:hover {\n",
              "    background-color: var(--disabled-bg-color);\n",
              "    fill: var(--disabled-fill-color);\n",
              "    box-shadow: none;\n",
              "  }\n",
              "\n",
              "  .colab-df-spinner {\n",
              "    border: 2px solid var(--fill-color);\n",
              "    border-color: transparent;\n",
              "    border-bottom-color: var(--fill-color);\n",
              "    animation:\n",
              "      spin 1s steps(1) infinite;\n",
              "  }\n",
              "\n",
              "  @keyframes spin {\n",
              "    0% {\n",
              "      border-color: transparent;\n",
              "      border-bottom-color: var(--fill-color);\n",
              "      border-left-color: var(--fill-color);\n",
              "    }\n",
              "    20% {\n",
              "      border-color: transparent;\n",
              "      border-left-color: var(--fill-color);\n",
              "      border-top-color: var(--fill-color);\n",
              "    }\n",
              "    30% {\n",
              "      border-color: transparent;\n",
              "      border-left-color: var(--fill-color);\n",
              "      border-top-color: var(--fill-color);\n",
              "      border-right-color: var(--fill-color);\n",
              "    }\n",
              "    40% {\n",
              "      border-color: transparent;\n",
              "      border-right-color: var(--fill-color);\n",
              "      border-top-color: var(--fill-color);\n",
              "    }\n",
              "    60% {\n",
              "      border-color: transparent;\n",
              "      border-right-color: var(--fill-color);\n",
              "    }\n",
              "    80% {\n",
              "      border-color: transparent;\n",
              "      border-right-color: var(--fill-color);\n",
              "      border-bottom-color: var(--fill-color);\n",
              "    }\n",
              "    90% {\n",
              "      border-color: transparent;\n",
              "      border-bottom-color: var(--fill-color);\n",
              "    }\n",
              "  }\n",
              "</style>\n",
              "\n",
              "  <script>\n",
              "    async function quickchart(key) {\n",
              "      const quickchartButtonEl =\n",
              "        document.querySelector('#' + key + ' button');\n",
              "      quickchartButtonEl.disabled = true;  // To prevent multiple clicks.\n",
              "      quickchartButtonEl.classList.add('colab-df-spinner');\n",
              "      try {\n",
              "        const charts = await google.colab.kernel.invokeFunction(\n",
              "            'suggestCharts', [key], {});\n",
              "      } catch (error) {\n",
              "        console.error('Error during call to suggestCharts:', error);\n",
              "      }\n",
              "      quickchartButtonEl.classList.remove('colab-df-spinner');\n",
              "      quickchartButtonEl.classList.add('colab-df-quickchart-complete');\n",
              "    }\n",
              "    (() => {\n",
              "      let quickchartButtonEl =\n",
              "        document.querySelector('#df-c8f37942-9582-449f-91b9-8f18f8a8bc88 button');\n",
              "      quickchartButtonEl.style.display =\n",
              "        google.colab.kernel.accessAllowed ? 'block' : 'none';\n",
              "    })();\n",
              "  </script>\n",
              "</div>\n",
              "\n",
              "    </div>\n",
              "  </div>\n"
            ],
            "application/vnd.google.colaboratory.intrinsic+json": {
              "type": "dataframe",
              "summary": "{\n  \"name\": \"featureScores\",\n  \"rows\": 400,\n  \"fields\": [\n    {\n      \"column\": \"Specs\",\n      \"properties\": {\n        \"dtype\": \"number\",\n        \"std\": 211,\n        \"min\": 61,\n        \"max\": 722,\n        \"num_unique_values\": 400,\n        \"samples\": [\n          400,\n          650,\n          72\n        ],\n        \"semantic_type\": \"\",\n        \"description\": \"\"\n      }\n    },\n    {\n      \"column\": \"Score\",\n      \"properties\": {\n        \"dtype\": \"number\",\n        \"std\": 597.3933379372447,\n        \"min\": 1436.2283810542235,\n        \"max\": 5415.799172205234,\n        \"num_unique_values\": 400,\n        \"samples\": [\n          2068.905169060576,\n          1875.8855211129182,\n          3003.270740722131\n        ],\n        \"semantic_type\": \"\",\n        \"description\": \"\"\n      }\n    }\n  ]\n}"
            }
          },
          "metadata": {},
          "execution_count": 36
        }
      ]
    },
    {
      "cell_type": "code",
      "source": [
        "sns.displot(data=featureScores.nlargest(n_features,'Score'), x=\"Score\", y=\"Specs\", color=\"Red\")"
      ],
      "metadata": {
        "colab": {
          "base_uri": "https://localhost:8080/",
          "height": 524
        },
        "id": "_dAkIGxo5sus",
        "outputId": "947a81b6-cdec-42ba-a9b7-641f7ae83cc7"
      },
      "execution_count": null,
      "outputs": [
        {
          "output_type": "execute_result",
          "data": {
            "text/plain": [
              "<seaborn.axisgrid.FacetGrid at 0x7fbec8503a30>"
            ]
          },
          "metadata": {},
          "execution_count": 37
        },
        {
          "output_type": "display_data",
          "data": {
            "text/plain": [
              "<Figure size 500x500 with 1 Axes>"
            ],
            "image/png": "[encoded data removed]"
          },
          "metadata": {}
        }
      ]
    },
    {
      "cell_type": "code",
      "source": [
        "train_x_new = []\n",
        "for x_tr in x_train_1d:\n",
        "  temp = []\n",
        "  for i in featureScores.nlargest(n_features, 'Score')['Specs']:\n",
        "      temp.append(x_tr[i])\n",
        "  train_x_new.append(temp)\n",
        "\n",
        "train_x_new[0][115:120]\n",
        "\n",
        "test_x_new = []\n",
        "for x_te in x_test_1d:\n",
        "  temp = []\n",
        "  for i in featureScores.nlargest(n_features, 'Score')['Specs']:\n",
        "      temp.append(x_te[i])\n",
        "  test_x_new.append(temp)\n",
        "\n",
        "test_x_new[0][:10]\n",
        "\n",
        "len(train_x_new)\n",
        "\n",
        "len(test_x_new)"
      ],
      "metadata": {
        "colab": {
          "base_uri": "https://localhost:8080/"
        },
        "id": "qhGswGc_5sow",
        "outputId": "81123faf-3928-413a-b95b-189baee3fb82"
      },
      "execution_count": null,
      "outputs": [
        {
          "output_type": "execute_result",
          "data": {
            "text/plain": [
              "12000"
            ]
          },
          "metadata": {},
          "execution_count": 39
        }
      ]
    },
    {
      "cell_type": "code",
      "source": [
        "len(test_x_new)"
      ],
      "metadata": {
        "colab": {
          "base_uri": "https://localhost:8080/"
        },
        "id": "bMAxVSnrSJXv",
        "outputId": "40a0a27e-b9b2-4106-91fb-9d219c2e83a3"
      },
      "execution_count": null,
      "outputs": [
        {
          "output_type": "execute_result",
          "data": {
            "text/plain": [
              "12000"
            ]
          },
          "metadata": {},
          "execution_count": 40
        }
      ]
    },
    {
      "cell_type": "code",
      "source": [
        "len(train_x_new)"
      ],
      "metadata": {
        "colab": {
          "base_uri": "https://localhost:8080/"
        },
        "id": "2aXqaDqGSL9q",
        "outputId": "0cecdfa7-e1e2-4b38-8f2a-f5452d5d1951"
      },
      "execution_count": null,
      "outputs": [
        {
          "output_type": "execute_result",
          "data": {
            "text/plain": [
              "48000"
            ]
          },
          "metadata": {},
          "execution_count": 41
        }
      ]
    },
    {
      "cell_type": "code",
      "source": [
        "\"\"\"# Updating the dataset with new features\"\"\"\n",
        "\n",
        "x_train = np.array(train_x_new)\n",
        "x_test = np.array(test_x_new)\n",
        "\n",
        "x_train_1d = x_train\n",
        "x_test_1d = x_test\n",
        "\n",
        "# Reshape the image size to be 20 x 20\n",
        "image_size = 20\n",
        "x_train = x_train.reshape(x_train.shape[0], image_size, image_size, 1)\n",
        "x_test = x_test.reshape(x_test.shape[0], image_size, image_size, 1)\n"
      ],
      "metadata": {
        "id": "LHil9mlTSPuU"
      },
      "execution_count": null,
      "outputs": []
    },
    {
      "cell_type": "code",
      "source": [
        "\"\"\"# Random Forest\"\"\"\n",
        "\n",
        "from sklearn.model_selection import GridSearchCV\n",
        "from sklearn.ensemble._forest import RandomForestClassifier\n",
        "parameters = {'n_estimators': [100,120,140,160]}\n",
        "\n",
        "clf_rf_fe = RandomForestClassifier(n_estimators = 280, n_jobs=-1, random_state=0)\n",
        "# clf_rf = GridSearchCV(clf_rf, parameters, n_jobs=-1)\n",
        "clf_rf_fe.fit(x_train_1d, y_train)\n",
        "\n",
        "y_pred = clf_rf_fe.predict(x_test_1d)\n",
        "y_pred[:10]\n",
        "\n",
        "accuracy = accuracy_score(y_test, y_pred)\n",
        "print(accuracy)\n"
      ],
      "metadata": {
        "colab": {
          "base_uri": "https://localhost:8080/"
        },
        "id": "kbUx7YK_SU_v",
        "outputId": "6d7489fb-5c8b-447c-9486-57df7132d69d"
      },
      "execution_count": null,
      "outputs": [
        {
          "output_type": "stream",
          "name": "stdout",
          "text": [
            "0.75675\n"
          ]
        }
      ]
    },
    {
      "cell_type": "code",
      "source": [
        "\"\"\"# MLP\"\"\"\n",
        "\n",
        "from sklearn.neural_network import MLPClassifier\n",
        "\n",
        "tuning_parameaters = {'hidden_layer_sizes' : [(50,), (100,), (784,), (50,50), (100,100), (784,784), (50,50,50), (100,100,100)],\n",
        "                    'alpha' : list(10.0 ** -np.arange(1, 7))}\n",
        "\n",
        "mlp_fe = MLPClassifier(hidden_layer_sizes=(784,784), random_state=0)\n",
        "# mlp = GridSearchCV(clf_mlp, param_grid=tuning_parameaters, n_jobs=-1)\n",
        "mlp_fe.fit(x_train_1d, y_train)\n",
        "\n",
        "y_pred = mlp_fe.predict(x_test_1d)\n",
        "y_pred[:10]\n",
        "\n",
        "accuracy = accuracy_score(y_test, y_pred)\n",
        "print(accuracy)"
      ],
      "metadata": {
        "colab": {
          "base_uri": "https://localhost:8080/"
        },
        "id": "IIigRXSoS6WN",
        "outputId": "5e6f9700-aff1-498e-e223-80c0f7059508"
      },
      "execution_count": null,
      "outputs": [
        {
          "output_type": "stream",
          "name": "stdout",
          "text": [
            "0.7851666666666667\n"
          ]
        }
      ]
    },
    {
      "cell_type": "code",
      "source": [
        "# Reshaping\n",
        "image_size = 28\n",
        "x_train = x_train_fea.reshape(x_train.shape[0], image_size, image_size, 1)\n",
        "x_test = x_test_fea.reshape(x_test.shape[0], image_size, image_size, 1)"
      ],
      "metadata": {
        "id": "TWDLu8r6X3dP"
      },
      "execution_count": null,
      "outputs": []
    },
    {
      "cell_type": "code",
      "source": [
        "# CNN Model\n",
        "model_fe = keras.Sequential()\n",
        "model_fe.add(layers.Convolution2D(64, (3, 3),\n",
        "                        padding='same',\n",
        "                        input_shape=x_train.shape[1:], activation='relu'))\n",
        "model_fe.add(layers.MaxPooling2D(pool_size=(3, 3)))\n",
        "model_fe.add(layers.Convolution2D(128, (3, 3), padding='same', activation='relu'))\n",
        "model_fe.add(layers.MaxPooling2D(pool_size=(3, 3)))\n",
        "model_fe.add(layers.Convolution2D(64, (3, 3), padding='same', activation='relu'))\n",
        "model_fe.add(layers.MaxPooling2D(pool_size =(3,3)))\n",
        "model_fe.add(layers.Flatten())\n",
        "model_fe.add(layers.Dense(128, activation='relu'))\n",
        "model_fe.add(layers.Dense(len(classes), activation='softmax'))\n",
        "optimizer = tf.optimizers.Adam()\n",
        "model_fe.compile(loss='sparse_categorical_crossentropy',\n",
        "              optimizer=optimizer,\n",
        "              metrics=['accuracy'])\n"
      ],
      "metadata": {
        "id": "V_TSQACSXsFl"
      },
      "execution_count": null,
      "outputs": []
    },
    {
      "cell_type": "code",
      "source": [
        "# Fit a model to the train data\n",
        "model_fe.fit(x = x_train, y = y_train, batch_size = 100,  validation_split = 0.2, epochs=15)\n",
        "\n",
        "y_pred = model_fe.predict(x_test)\n",
        "y_pred[:2]\n"
      ],
      "metadata": {
        "colab": {
          "base_uri": "https://localhost:8080/"
        },
        "id": "BNJNJvtrXsCd",
        "outputId": "072106be-8b83-4469-9d82-a71dcb8fd891"
      },
      "execution_count": null,
      "outputs": [
        {
          "output_type": "stream",
          "name": "stdout",
          "text": [
            "Epoch 1/15\n",
            "384/384 [==============================] - 68s 173ms/step - loss: 0.9388 - accuracy: 0.6936 - val_loss: 0.6060 - val_accuracy: 0.8035\n",
            "Epoch 2/15\n",
            "384/384 [==============================] - 63s 165ms/step - loss: 0.5113 - accuracy: 0.8393 - val_loss: 0.4394 - val_accuracy: 0.8611\n",
            "Epoch 3/15\n",
            "384/384 [==============================] - 61s 160ms/step - loss: 0.4057 - accuracy: 0.8748 - val_loss: 0.3889 - val_accuracy: 0.8776\n",
            "Epoch 4/15\n",
            "384/384 [==============================] - 62s 162ms/step - loss: 0.3466 - accuracy: 0.8915 - val_loss: 0.3575 - val_accuracy: 0.8874\n",
            "Epoch 5/15\n",
            "384/384 [==============================] - 60s 156ms/step - loss: 0.3036 - accuracy: 0.9045 - val_loss: 0.3391 - val_accuracy: 0.8932\n",
            "Epoch 6/15\n",
            "384/384 [==============================] - 62s 162ms/step - loss: 0.2771 - accuracy: 0.9118 - val_loss: 0.3220 - val_accuracy: 0.8991\n",
            "Epoch 7/15\n",
            "384/384 [==============================] - 60s 157ms/step - loss: 0.2415 - accuracy: 0.9236 - val_loss: 0.3117 - val_accuracy: 0.8991\n",
            "Epoch 8/15\n",
            "384/384 [==============================] - 61s 158ms/step - loss: 0.2139 - accuracy: 0.9320 - val_loss: 0.3408 - val_accuracy: 0.8951\n",
            "Epoch 9/15\n",
            "384/384 [==============================] - 64s 167ms/step - loss: 0.1944 - accuracy: 0.9374 - val_loss: 0.3143 - val_accuracy: 0.9021\n",
            "Epoch 10/15\n",
            "384/384 [==============================] - 68s 178ms/step - loss: 0.1737 - accuracy: 0.9437 - val_loss: 0.3093 - val_accuracy: 0.9050\n",
            "Epoch 11/15\n",
            "384/384 [==============================] - 67s 176ms/step - loss: 0.1524 - accuracy: 0.9508 - val_loss: 0.3293 - val_accuracy: 0.9018\n",
            "Epoch 12/15\n",
            "384/384 [==============================] - 68s 178ms/step - loss: 0.1295 - accuracy: 0.9572 - val_loss: 0.3542 - val_accuracy: 0.8993\n",
            "Epoch 13/15\n",
            "384/384 [==============================] - 68s 176ms/step - loss: 0.1136 - accuracy: 0.9622 - val_loss: 0.3400 - val_accuracy: 0.9039\n",
            "Epoch 14/15\n",
            "384/384 [==============================] - 67s 175ms/step - loss: 0.0992 - accuracy: 0.9668 - val_loss: 0.3669 - val_accuracy: 0.9020\n",
            "Epoch 15/15\n",
            "384/384 [==============================] - 67s 175ms/step - loss: 0.0824 - accuracy: 0.9723 - val_loss: 0.4126 - val_accuracy: 0.8965\n",
            "375/375 [==============================] - 6s 16ms/step\n"
          ]
        },
        {
          "output_type": "execute_result",
          "data": {
            "text/plain": [
              "array([[9.99980748e-01, 1.17264207e-08, 8.15912848e-09, 3.49367696e-07,\n",
              "        1.99615269e-10, 2.17584528e-07, 1.86303150e-05, 4.48772397e-09,\n",
              "        1.16152414e-10, 2.37092079e-09],\n",
              "       [9.74495232e-01, 6.08386927e-07, 1.35206059e-03, 4.08447733e-07,\n",
              "        4.75673412e-09, 1.36307494e-06, 2.41481829e-02, 1.77944196e-06,\n",
              "        3.65263503e-07, 4.17758095e-08]], dtype=float32)"
            ]
          },
          "metadata": {},
          "execution_count": 48
        }
      ]
    },
    {
      "cell_type": "code",
      "source": [
        "# Obtain the accuracy of the above model on the test data\n",
        "accuracy = model_fe.evaluate(x_test, y_test)\n",
        "\n",
        "df = pd.DataFrame([[0.769, 0.788]])\n",
        "ax = sns.barplot(data=df, ci=\"sd\")"
      ],
      "metadata": {
        "colab": {
          "base_uri": "https://localhost:8080/",
          "height": 534
        },
        "id": "wJ-mNeEsXr6O",
        "outputId": "29b6e194-9567-467e-c70e-cb5e114d877e"
      },
      "execution_count": null,
      "outputs": [
        {
          "output_type": "stream",
          "name": "stdout",
          "text": [
            "375/375 [==============================] - 8s 20ms/step - loss: 0.4563 - accuracy: 0.8907\n"
          ]
        },
        {
          "output_type": "stream",
          "name": "stderr",
          "text": [
            "<ipython-input-49-f2e449b5b847>:5: FutureWarning: \n",
            "\n",
            "The `ci` parameter is deprecated. Use `errorbar='sd'` for the same effect.\n",
            "\n",
            "  ax = sns.barplot(data=df, ci=\"sd\")\n"
          ]
        },
        {
          "output_type": "display_data",
          "data": {
            "text/plain": [
              "<Figure size 640x480 with 1 Axes>"
            ],
            "image/png": "[encoded data removed]"
          },
          "metadata": {}
        }
      ]
    },
    {
      "cell_type": "code",
      "source": [
        "df = pd.DataFrame([[0.707, 0.73375]])\n",
        "ax = sns.barplot(data=df, ci=\"sd\")"
      ],
      "metadata": {
        "colab": {
          "base_uri": "https://localhost:8080/",
          "height": 517
        },
        "id": "qBPkeqGjYAXL",
        "outputId": "afdcb19e-6fcb-449a-dbdf-aff8933e3b76"
      },
      "execution_count": null,
      "outputs": [
        {
          "output_type": "stream",
          "name": "stderr",
          "text": [
            "<ipython-input-50-ad8cb660bc59>:2: FutureWarning: \n",
            "\n",
            "The `ci` parameter is deprecated. Use `errorbar='sd'` for the same effect.\n",
            "\n",
            "  ax = sns.barplot(data=df, ci=\"sd\")\n"
          ]
        },
        {
          "output_type": "display_data",
          "data": {
            "text/plain": [
              "<Figure size 640x480 with 1 Axes>"
            ],
            "image/png": "[encoded data removed]"
          },
          "metadata": {}
        }
      ]
    },
    {
      "cell_type": "code",
      "source": [
        "df = pd.DataFrame([[0.759, 0.788]])\n",
        "ax = sns.barplot(data=df, ci=\"sd\")"
      ],
      "metadata": {
        "colab": {
          "base_uri": "https://localhost:8080/",
          "height": 517
        },
        "id": "7qWu3RwSYCnr",
        "outputId": "b2122657-0342-4bae-dd1c-07103924f27e"
      },
      "execution_count": null,
      "outputs": [
        {
          "output_type": "stream",
          "name": "stderr",
          "text": [
            "<ipython-input-51-74be3d5523d0>:2: FutureWarning: \n",
            "\n",
            "The `ci` parameter is deprecated. Use `errorbar='sd'` for the same effect.\n",
            "\n",
            "  ax = sns.barplot(data=df, ci=\"sd\")\n"
          ]
        },
        {
          "output_type": "display_data",
          "data": {
            "text/plain": [
              "<Figure size 640x480 with 1 Axes>"
            ],
            "image/png": "[encoded data removed]"
          },
          "metadata": {}
        }
      ]
    },
    {
      "cell_type": "code",
      "source": [
        "df = pd.DataFrame([[0.8717, 0.8924]])\n",
        "ax = sns.barplot(data=df, ci=\"sd\")"
      ],
      "metadata": {
        "colab": {
          "base_uri": "https://localhost:8080/",
          "height": 517
        },
        "id": "52WicCwjYE0k",
        "outputId": "7429f72d-6c54-4559-af70-f1628734d768"
      },
      "execution_count": null,
      "outputs": [
        {
          "output_type": "stream",
          "name": "stderr",
          "text": [
            "<ipython-input-52-e62977151ae2>:2: FutureWarning: \n",
            "\n",
            "The `ci` parameter is deprecated. Use `errorbar='sd'` for the same effect.\n",
            "\n",
            "  ax = sns.barplot(data=df, ci=\"sd\")\n"
          ]
        },
        {
          "output_type": "display_data",
          "data": {
            "text/plain": [
              "<Figure size 640x480 with 1 Axes>"
            ],
            "image/png": "[encoded data removed]"
          },
          "metadata": {}
        }
      ]
    }
  ]
}